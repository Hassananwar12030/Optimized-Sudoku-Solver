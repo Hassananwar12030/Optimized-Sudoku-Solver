{
 "cells": [
  {
   "cell_type": "code",
   "execution_count": 32,
   "metadata": {},
   "outputs": [],
   "source": [
    "board = [\n",
    "    [0,0,0,4,0,0,1,2,0],\n",
    "    [6,0,0,0,7,5,0,0,9],\n",
    "    [0,0,0,6,0,1,0,7,8],\n",
    "    [0,0,7,0,4,0,2,6,0],\n",
    "    [0,0,1,0,5,0,9,3,0],\n",
    "    [9,0,4,0,6,0,0,0,5],\n",
    "    [0,7,0,3,0,0,0,1,2],\n",
    "    [1,2,0,0,0,7,4,0,0],\n",
    "    [0,4,9,2,0,6,0,0,7]\n",
    "]\n"
   ]
  },
  {
   "cell_type": "code",
   "execution_count": 33,
   "metadata": {},
   "outputs": [],
   "source": [
    "def print_board(bo):\n",
    "    for i in range(len(bo)):\n",
    "        if i%3==0:\n",
    "            print(\"______________________\")\n",
    "\n",
    "        for j in range(len(bo[0])):\n",
    "            if j %3==0:\n",
    "                print(\"|\", end=\"\")\n",
    "            print(str(bo[i][j]) + \" \", end=\"\")\n",
    "            if j == 8:\n",
    "                print(\"|\", end=\"\")\n",
    "        print()\n",
    "        if i==8:\n",
    "            print(\"______________________\")"
   ]
  },
  {
   "cell_type": "code",
   "execution_count": 34,
   "metadata": {},
   "outputs": [
    {
     "name": "stdout",
     "output_type": "stream",
     "text": [
      "______________________\n",
      "|0 0 0 |4 0 0 |1 2 0 |\n",
      "|6 0 0 |0 7 5 |0 0 9 |\n",
      "|0 0 0 |6 0 1 |0 7 8 |\n",
      "______________________\n",
      "|0 0 7 |0 4 0 |2 6 0 |\n",
      "|0 0 1 |0 5 0 |9 3 0 |\n",
      "|9 0 4 |0 6 0 |0 0 5 |\n",
      "______________________\n",
      "|0 7 0 |3 0 0 |0 1 2 |\n",
      "|1 2 0 |0 0 7 |4 0 0 |\n",
      "|0 4 9 |2 0 6 |0 0 7 |\n",
      "______________________\n"
     ]
    }
   ],
   "source": [
    "print_board(board)"
   ]
  },
  {
   "cell_type": "code",
   "execution_count": 35,
   "metadata": {},
   "outputs": [],
   "source": [
    "def nextEmptyCell(bo, i ,j):\n",
    "    if j<8:\n",
    "        j=j+1\n",
    "    else:\n",
    "        j=0\n",
    "        i=i+1\n",
    "    for a in range(i, len(bo)):\n",
    "        for b in range(j, len(bo[0])):\n",
    "            if b==8:\n",
    "                j=0\n",
    "            if bo[a][b]==0:\n",
    "                return(a, b)\n",
    "    return None"
   ]
  },
  {
   "cell_type": "code",
   "execution_count": 36,
   "metadata": {},
   "outputs": [
    {
     "name": "stdout",
     "output_type": "stream",
     "text": [
      "Empty Cells are: \n",
      "0 0\n",
      "0 1\n",
      "0 2\n",
      "0 4\n",
      "0 5\n",
      "0 8\n",
      "1 1\n",
      "1 2\n",
      "1 3\n",
      "1 6\n",
      "1 7\n",
      "2 0\n",
      "2 1\n",
      "2 2\n",
      "2 4\n",
      "2 6\n",
      "3 0\n",
      "3 1\n",
      "3 3\n",
      "3 5\n",
      "3 8\n",
      "4 0\n",
      "4 1\n",
      "4 3\n",
      "4 5\n",
      "4 8\n",
      "5 1\n",
      "5 3\n",
      "5 5\n",
      "5 6\n",
      "5 7\n",
      "6 0\n",
      "6 2\n",
      "6 4\n",
      "6 5\n",
      "6 6\n",
      "7 2\n",
      "7 3\n",
      "7 4\n",
      "7 7\n",
      "7 8\n",
      "8 0\n",
      "8 4\n",
      "8 6\n",
      "8 7\n",
      "45\n"
     ]
    }
   ],
   "source": [
    "emptyCells_i = []\n",
    "emptyCells_j = []\n",
    "max_cell= len(board)*len(board)\n",
    "i=0\n",
    "j=-1\n",
    "print(\"Empty Cells are: \")\n",
    "for k in range(max_cell):\n",
    "    if nextEmptyCell(board, i, j)==None:\n",
    "        break\n",
    "    else:\n",
    "        i, j=nextEmptyCell(board, i, j)\n",
    "        print(i,j)\n",
    "        emptyCells_i.append(i)\n",
    "        emptyCells_j.append(j)\n",
    "        #print(emptyCells_i[count])\n",
    "        #print(emptyCells_j[count])\n",
    "print(len(emptyCells_i))\n",
    "#print(len(emptyCells_j))"
   ]
  },
  {
   "cell_type": "code",
   "execution_count": null,
   "metadata": {},
   "outputs": [],
   "source": []
  },
  {
   "cell_type": "code",
   "execution_count": 37,
   "metadata": {},
   "outputs": [],
   "source": [
    "def solve_Board(bo , loc, count): #loc is the empty location for the empty cells index & count is for backtrack count\n",
    "    if loc==len(emptyCells_i):\n",
    "        print(\"Yay! We have solved the Sudoku\\n The backtrack count is: \",count)\n",
    "        print(\"And Solved Puzzle is: \")\n",
    "        print_board(bo)\n",
    "    else:                              #recursively solving puzzle\n",
    "        i=emptyCells_i[loc]\n",
    "        j=emptyCells_j[loc]\n",
    "        value=bo[i][j]\n",
    "        n=len(board)\n",
    "        if value==n:\n",
    "            bo[i][j]=0\n",
    "            backTrack1(bo , loc, count)\n",
    "        else:\n",
    "            value = value + 1\n",
    "            check=False\n",
    "            for k in range(value,len(bo)+1):\n",
    "                if check_conflict(value, i, j)==True:\n",
    "                    value=value+1\n",
    "                else:\n",
    "                    bo[i][j]=value\n",
    "                    check=True\n",
    "                    loc=loc+1\n",
    "                    break\n",
    "            if check==False:\n",
    "                bo[i][j]=0\n",
    "                backTrack1(bo , loc, count)\n",
    "            else:\n",
    "                solve_Board(bo , loc, count)\n",
    "    "
   ]
  },
  {
   "cell_type": "code",
   "execution_count": 38,
   "metadata": {},
   "outputs": [],
   "source": [
    "def check_conflict(value, i, j):\n",
    "    for k in range(len(board)):  #for checking in ith row\n",
    "        if board[i][k]==value:\n",
    "            return True\n",
    "    for t in range(len(board)):     #for checking in jth colum\n",
    "        if board[t][j]==value:\n",
    "            return True\n",
    "    #x= math.sqrt(len(board))        #checking which box it is\n",
    "    x=3\n",
    "    a=0\n",
    "    for z in range(x):\n",
    "        if i>=a and i<(a+x):\n",
    "            break\n",
    "        else:\n",
    "            a=a+x\n",
    "    b=0\n",
    "    for l in range(x):\n",
    "        if j>=b and j<(b+x):\n",
    "            break\n",
    "        else:\n",
    "            b=b+x\n",
    "    temp=b\n",
    "    for m in range(x):              #checking the conflict in that box\n",
    "        for n in range(x):\n",
    "            if board[a][b]==value:\n",
    "                return True\n",
    "            else:\n",
    "                b=b+1\n",
    "        a=a+1\n",
    "        b=temp\n",
    "    return False"
   ]
  },
  {
   "cell_type": "code",
   "execution_count": 39,
   "metadata": {},
   "outputs": [],
   "source": [
    "def backTrack1(bo , emty, count):\n",
    "    if emty==0:\n",
    "        print(\"Oops! It looks like we can't solve this puzzle\")\n",
    "        print_board(bo)\n",
    "    else:\n",
    "        count=count+1\n",
    "        emty=emty-1\n",
    "        solve_Board(bo,emty,count)\n",
    "    "
   ]
  },
  {
   "cell_type": "code",
   "execution_count": 40,
   "metadata": {},
   "outputs": [
    {
     "name": "stdout",
     "output_type": "stream",
     "text": [
      "Yay! We have solved the Sudoku\n",
      " The backtrack count is:  85\n",
      "And Solved Puzzle is: \n",
      "______________________\n",
      "|7 5 8 |4 3 9 |1 2 6 |\n",
      "|6 1 2 |8 7 5 |3 4 9 |\n",
      "|4 9 3 |6 2 1 |5 7 8 |\n",
      "______________________\n",
      "|5 8 7 |9 4 3 |2 6 1 |\n",
      "|2 6 1 |7 5 8 |9 3 4 |\n",
      "|9 3 4 |1 6 2 |7 8 5 |\n",
      "______________________\n",
      "|8 7 5 |3 9 4 |6 1 2 |\n",
      "|1 2 6 |5 8 7 |4 9 3 |\n",
      "|3 4 9 |2 1 6 |8 5 7 |\n",
      "______________________\n"
     ]
    }
   ],
   "source": [
    "solve_Board(board , 0, 0)"
   ]
  },
  {
   "cell_type": "code",
   "execution_count": null,
   "metadata": {},
   "outputs": [],
   "source": []
  },
  {
   "cell_type": "code",
   "execution_count": null,
   "metadata": {},
   "outputs": [],
   "source": []
  },
  {
   "cell_type": "code",
   "execution_count": null,
   "metadata": {},
   "outputs": [],
   "source": []
  }
 ],
 "metadata": {
  "kernelspec": {
   "display_name": "Python 3",
   "language": "python",
   "name": "python3"
  },
  "language_info": {
   "codemirror_mode": {
    "name": "ipython",
    "version": 3
   },
   "file_extension": ".py",
   "mimetype": "text/x-python",
   "name": "python",
   "nbconvert_exporter": "python",
   "pygments_lexer": "ipython3",
   "version": "3.7.6"
  }
 },
 "nbformat": 4,
 "nbformat_minor": 4
}
